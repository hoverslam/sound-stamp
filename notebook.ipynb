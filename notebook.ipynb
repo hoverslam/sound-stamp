{
 "cells": [
  {
   "cell_type": "code",
   "execution_count": 15,
   "metadata": {},
   "outputs": [],
   "source": [
    "import torch\n",
    "from torch.utils.data import DataLoader\n",
    "from torchmetrics.classification import MultilabelAUROC\n",
    "\n",
    "from sound_stamp.datasets import MagnaSet\n",
    "from sound_stamp.tagger import MusicTagger"
   ]
  },
  {
   "cell_type": "code",
   "execution_count": 16,
   "metadata": {},
   "outputs": [
    {
     "name": "stdout",
     "output_type": "stream",
     "text": [
      "Downloading MagnaTagATune ... \n",
      "Dataset already downloaded. Remove 'f:\\Git\\sound-stamp\\data\\magna' to download again.\n"
     ]
    }
   ],
   "source": [
    "dataset = MagnaSet()\n",
    "\n",
    "train, val, test = dataset.random_split(random_state=42)\n",
    "train_loader = DataLoader(train, batch_size=128, shuffle=True)\n",
    "val_loader = DataLoader(val, batch_size=128, shuffle=True)\n",
    "test_loader = DataLoader(test, batch_size=128)"
   ]
  },
  {
   "cell_type": "code",
   "execution_count": 17,
   "metadata": {},
   "outputs": [
    {
     "name": "stdout",
     "output_type": "stream",
     "text": [
      "Model parameters loaded from 'models/fcn_tagger.pt'.\n"
     ]
    }
   ],
   "source": [
    "tagger = MusicTagger(dataset.class_names)\n",
    "tagger.load(\"models/fcn_tagger.pt\")"
   ]
  },
  {
   "cell_type": "code",
   "execution_count": 6,
   "metadata": {},
   "outputs": [
    {
     "name": "stdout",
     "output_type": "stream",
     "text": [
      "1/5: train_loss=0.6253, val_loss=0.6109\n",
      "2/5: train_loss=0.4866, val_loss=0.4123\n",
      "3/5: train_loss=0.3540, val_loss=0.2781\n",
      "4/5: train_loss=0.2698, val_loss=0.2359\n",
      "5/5: train_loss=0.2201, val_loss=0.2104\n",
      "Model parameters saved to 'fcn_tagger_1.model'.\n"
     ]
    }
   ],
   "source": [
    "# Training\n",
    "num_epochs = 5\n",
    "\n",
    "for epoch in range(num_epochs):\n",
    "    train_loss = tagger.train(train_loader)\n",
    "    val_loss = tagger.evaluate(val_loader)\n",
    "\n",
    "    print(f\"{epoch+1}/{num_epochs}: {train_loss=:.4f}, {val_loss=:.4f}\")\n",
    "    \n",
    "tagger.save(\"models/fcn_tagger.pt\")"
   ]
  },
  {
   "cell_type": "code",
   "execution_count": 18,
   "metadata": {},
   "outputs": [],
   "source": [
    "# Predictions\n",
    "predicted_tags = []\n",
    "true_tags = []\n",
    "\n",
    "for features, targets in test_loader:\n",
    "    output = tagger.inference(features)\n",
    "    predicted_tags.append(output)\n",
    "    true_tags.append(targets)\n",
    "\n",
    "predicted_tags = torch.vstack(predicted_tags).cpu()\n",
    "true_tags = torch.vstack(true_tags).type(torch.int8).cpu()"
   ]
  },
  {
   "cell_type": "code",
   "execution_count": 20,
   "metadata": {},
   "outputs": [
    {
     "data": {
      "text/plain": [
       "0.8982025980949402"
      ]
     },
     "execution_count": 20,
     "metadata": {},
     "output_type": "execute_result"
    }
   ],
   "source": [
    "# Area Under the Receiver Operating Characteristic Curve\n",
    "ml_auroc = MultilabelAUROC(num_labels=len(dataset.class_names), average=\"micro\", thresholds=None)\n",
    "ml_auroc(predicted_tags, true_tags).item()"
   ]
  }
 ],
 "metadata": {
  "kernelspec": {
   "display_name": ".venv",
   "language": "python",
   "name": "python3"
  },
  "language_info": {
   "codemirror_mode": {
    "name": "ipython",
    "version": 3
   },
   "file_extension": ".py",
   "mimetype": "text/x-python",
   "name": "python",
   "nbconvert_exporter": "python",
   "pygments_lexer": "ipython3",
   "version": "3.11.7"
  }
 },
 "nbformat": 4,
 "nbformat_minor": 2
}
