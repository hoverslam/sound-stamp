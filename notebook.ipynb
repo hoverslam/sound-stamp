{
 "cells": [
  {
   "cell_type": "code",
   "execution_count": 17,
   "metadata": {},
   "outputs": [],
   "source": [
    "import torch\n",
    "from torch.utils.data import DataLoader\n",
    "from torchmetrics.classification import MultilabelAUROC, MulticlassROC\n",
    "\n",
    "from sound_stamp.datasets import MagnaSet\n",
    "from sound_stamp.tagger import MusicTagger"
   ]
  },
  {
   "cell_type": "code",
   "execution_count": 2,
   "metadata": {},
   "outputs": [
    {
     "name": "stdout",
     "output_type": "stream",
     "text": [
      "Downloading MagnaTagATune ... \n",
      "Dataset already downloaded. Remove 'f:\\Git\\sound-stamp\\data\\magna' to download again.\n"
     ]
    }
   ],
   "source": [
    "dataset = MagnaSet()\n",
    "\n",
    "train, val, test = dataset.random_split(random_state=42)\n",
    "train_loader = DataLoader(train, batch_size=128, shuffle=True)\n",
    "val_loader = DataLoader(val, batch_size=128, shuffle=True)\n",
    "test_loader = DataLoader(test, batch_size=128)"
   ]
  },
  {
   "cell_type": "code",
   "execution_count": 3,
   "metadata": {},
   "outputs": [
    {
     "name": "stdout",
     "output_type": "stream",
     "text": [
      "Model parameters loaded from 'models/fcn_tagger_final.pt'.\n"
     ]
    }
   ],
   "source": [
    "tagger = MusicTagger(dataset.class_names)\n",
    "tagger.load(\"models/fcn_tagger_final.pt\")"
   ]
  },
  {
   "cell_type": "code",
   "execution_count": null,
   "metadata": {},
   "outputs": [],
   "source": [
    "# Training\n",
    "NUM_EPOCHS = 10\n",
    "PATIENCE = 3\n",
    "REFINEMENT = 2\n",
    "REFINEMENT_LR_FACTOR = 0.1\n",
    "LEARNING_RATE = 3e-4\n",
    "\n",
    "best_val_loss = float(\"inf\")\n",
    "cur_patience = PATIENCE\n",
    "cur_refinement = REFINEMENT\n",
    "cur_learning_rate = LEARNING_RATE\n",
    "\n",
    "print(\"Training ...\")\n",
    "for epoch in range(NUM_EPOCHS):\n",
    "    train_loss = tagger.train(train_loader, cur_learning_rate)\n",
    "    val_loss = tagger.evaluate(val_loader)\n",
    "    print(f\"{epoch+1}/{NUM_EPOCHS}: {train_loss=:.4f}, {val_loss=:.4f}\")\n",
    "    \n",
    "    # Early stopping with refinement\n",
    "    if val_loss < best_val_loss:\n",
    "        tagger.save(\"models/fcn_tagger_ckpt.pt\", verbose=False)\n",
    "        best_val_loss = val_loss\n",
    "        cur_patience = PATIENCE        \n",
    "    else:\n",
    "        if cur_patience == 0:\n",
    "            if cur_refinement > 0:\n",
    "                tagger.load(\"models/fcn_tagger_ckpt.pt\", verbose=False)\n",
    "                cur_learning_rate = cur_learning_rate * REFINEMENT_LR_FACTOR                \n",
    "                cur_patience = PATIENCE\n",
    "                cur_refinement -= 1\n",
    "                print(f\"Refinement with new learning rate {cur_learning_rate}.\")\n",
    "            else:\n",
    "                print(\"Stopped early!\")\n",
    "                break\n",
    "        else:\n",
    "            cur_patience -= 1    \n",
    "\n",
    "# Save the best model with a new name\n",
    "tagger.load(\"models/fcn_tagger_ckpt.pt\", verbose=False)\n",
    "tagger.save(\"models/fcn_tagger_final.pt\")"
   ]
  },
  {
   "cell_type": "code",
   "execution_count": 4,
   "metadata": {},
   "outputs": [],
   "source": [
    "# Predictions\n",
    "predicted_tags = []\n",
    "true_tags = []\n",
    "\n",
    "for features, targets in test_loader:\n",
    "    output = tagger.inference(features)\n",
    "    predicted_tags.append(output)\n",
    "    true_tags.append(targets)\n",
    "\n",
    "predicted_tags = torch.vstack(predicted_tags).cpu()\n",
    "true_tags = torch.vstack(true_tags).type(torch.int8).cpu()"
   ]
  },
  {
   "cell_type": "code",
   "execution_count": 20,
   "metadata": {},
   "outputs": [
    {
     "data": {
      "text/plain": [
       "0.9183872938156128"
      ]
     },
     "execution_count": 20,
     "metadata": {},
     "output_type": "execute_result"
    }
   ],
   "source": [
    "# Area Under the Receiver Operating Characteristic Curve\n",
    "auroc = MultilabelAUROC(num_labels=len(dataset.class_names), average=\"micro\", thresholds=None)\n",
    "auroc(predicted_tags, true_tags).item()"
   ]
  }
 ],
 "metadata": {
  "kernelspec": {
   "display_name": ".venv",
   "language": "python",
   "name": "python3"
  },
  "language_info": {
   "codemirror_mode": {
    "name": "ipython",
    "version": 3
   },
   "file_extension": ".py",
   "mimetype": "text/x-python",
   "name": "python",
   "nbconvert_exporter": "python",
   "pygments_lexer": "ipython3",
   "version": "3.11.7"
  }
 },
 "nbformat": 4,
 "nbformat_minor": 2
}
